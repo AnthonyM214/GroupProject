{
 "cells": [
  {
   "cell_type": "code",
   "execution_count": null,
   "id": "ee446e52-4704-41ad-8293-5734a17df5f5",
   "metadata": {},
   "outputs": [],
   "source": [
    "import numpy as np\n",
    "from scipy import optimize\n",
    "import matplotlib.pyplot as plt"
   ]
  },
  {
   "cell_type": "code",
   "execution_count": null,
   "id": "8fa4abc8-39a0-4ef9-99ad-a43919e55d06",
   "metadata": {},
   "outputs": [],
   "source": [
    "file_path = '/Users/funny/Downloads/ASTR19_S22_group_project_data.txt'\n",
    "# parsing the data from the file\n",
    "import numpy as np\n",
    "import matplotlib.pyplot as plt\n",
    "from scipy.optimize import curve_fit"
   ]
  },
  {
   "cell_type": "code",
   "execution_count": null,
   "id": "bfcc74dd-3a14-44d7-9b3c-d1923b661e09",
   "metadata": {},
   "outputs": [],
   "source": [
    "# Function to parse the tidal data from the file\n",
    "def parse_tidal_data(file_path):\n",
    "    data = []\n",
    "    with open(file_path, 'r') as file:\n",
    "        for line in file:\n",
    "            if not line.startswith('#'):\n",
    "                day, time, height = line.split()\n",
    "                day = int(day)\n",
    "                hour, minute = map(int, time.split(':'))\n",
    "                total_minutes = day + (hour * 60 + minute) / (24 * 60)\n",
    "                height = float(height)\n",
    "                data.append([total_minutes, height])\n",
    "    return data\n",
    "\n",
    "\n",
    "def tidal_function(t, A, O1, O2, phase_1, phase_2, B):\n",
    "    return A * np.sin(O1 * t + phase_1) +B*np.sin(O2 * t+ phase_2)\n",
    "# this is the result of two sin functions combined, one for the 12 hour cycle, and one for the 24 hour cycle \n",
    "\n",
    "##part 1"
   ]
  },
  {
   "cell_type": "code",
   "execution_count": null,
   "id": "4c6a7d38-ff32-4118-9ba0-390e2d24db20",
   "metadata": {},
   "outputs": [],
   "source": [
    "#part 2\n",
    "data = np.array(parse_tidal_data(file_path))\n",
    "time = data[:, 0]\n",
    "height = data[:,1]\n",
    "\n",
    "#p0 is the inputs to the tidal function , with 0.25 experimental error\n",
    "params, covariance = curve_fit(tidal_function, time, height, p0=[5, 2*np.pi/12.1, 2*np.pi/25, 0, np.pi/3, 4], sigma=np.full_like(time, 0.25))\n",
    "\n",
    "\n",
    "plt.figure(figsize=(10, 6))\n",
    "plt.plot(time, height, label='Observed', color='green')\n",
    "plt.plot(time, tidal_function(time, *params), label='Wave Model', color='red')\n",
    "\n",
    "plt.xlabel('Time (days)')\n",
    "\n",
    "plt.ylabel('Tide Height in feet')\n",
    "\n",
    "plt.title('Tide Height vs. Time')\n",
    "\n",
    "plt.legend()\n",
    "plt.grid(True)\n",
    "\n",
    "\n",
    "plt.savefig('tide_model_fit.pdf')\n",
    "\n",
    "plt.show()"
   ]
  },
  {
   "cell_type": "code",
   "execution_count": null,
   "id": "5762c853-1378-45dc-afe0-b80492dce538",
   "metadata": {},
   "outputs": [],
   "source": [
    "#part 3\n",
    "model_predictions = tidal_function(time, *params)\n",
    "\n",
    "\n",
    "residuals = height - model_predictions\n",
    "\n",
    "\n",
    "plt.figure(figsize=(10, 6))\n",
    "plt.scatter(time, residuals, color='green')\n",
    "plt.axhline(0, color='red', linestyle='--', linewidth=2)\n",
    "plt.xlabel('Time (days)')\n",
    "plt.ylabel('Residuals (ft)')\n",
    "plt.title('Residuals of Tidal Measurements')\n",
    "plt.grid(True)\n",
    "plt.show()\n",
    "\n",
    "\n",
    "plt.figure(figsize=(10, 6))\n",
    "bin_width = 0.05  \n",
    "bins = int(np.ptp(residuals) / bin_width)\n",
    "plt.hist(residuals, bins=bins, edgecolor='black')\n",
    "plt.xlabel('Residuals (ft)')\n",
    "plt.ylabel('Frequency')\n",
    "plt.title('Histogram of Residuals')\n",
    "plt.grid(True)\n",
    "plt.savefig('residuals_histogram.pdf')\n",
    "plt.show()\n",
    "\n"
   ]
  },
  {
   "cell_type": "code",
   "execution_count": null,
   "id": "ad974f93-ee99-4cd5-a780-440ab831fffa",
   "metadata": {},
   "outputs": [],
   "source": []
  }
 ],
 "metadata": {
  "kernelspec": {
   "display_name": "Python 3 (ipykernel)",
   "language": "python",
   "name": "python3"
  },
  "language_info": {
   "codemirror_mode": {
    "name": "ipython",
    "version": 3
   },
   "file_extension": ".py",
   "mimetype": "text/x-python",
   "name": "python",
   "nbconvert_exporter": "python",
   "pygments_lexer": "ipython3",
   "version": "3.11.5"
  }
 },
 "nbformat": 4,
 "nbformat_minor": 5
}
