{
 "cells": [
  {
   "cell_type": "code",
   "execution_count": 3,
   "id": "e5a156c0-691b-4877-b8e9-5daac24188e3",
   "metadata": {},
   "outputs": [],
   "source": [
    "import numpy as np\n",
    "import matplotlib.pyplot as plt"
   ]
  },
  {
   "cell_type": "code",
   "execution_count": 4,
   "id": "dbcc1ba2-a3f7-4291-a3b9-f5b86ee28d99",
   "metadata": {},
   "outputs": [
    {
     "name": "stdout",
     "output_type": "stream",
     "text": [
      "#Column A: Day of the year\n",
      "\n"
     ]
    }
   ],
   "source": [
    "data = open(\"ASTR19_S22_group_project_data.txt\", \"r\")\n",
    "\n",
    "print(data.readline())\n",
    "\n",
    "# x - axis (time)\n",
    "# we can divide the hour by the day (8:03/24:00)\n",
    "# y -axis (tide)"
   ]
  },
  {
   "cell_type": "code",
   "execution_count": null,
   "id": "1cc7d9f7-fbfa-4441-90a1-0ee4d549974d",
   "metadata": {},
   "outputs": [],
   "source": []
  }
 ],
 "metadata": {
  "kernelspec": {
   "display_name": "Python 3 (ipykernel)",
   "language": "python",
   "name": "python3"
  },
  "language_info": {
   "codemirror_mode": {
    "name": "ipython",
    "version": 3
   },
   "file_extension": ".py",
   "mimetype": "text/x-python",
   "name": "python",
   "nbconvert_exporter": "python",
   "pygments_lexer": "ipython3",
   "version": "3.10.11"
  }
 },
 "nbformat": 4,
 "nbformat_minor": 5
}
