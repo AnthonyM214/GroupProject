{
 "cells": [
  {
   "cell_type": "code",
   "execution_count": 1,
   "id": "e5a156c0-691b-4877-b8e9-5daac24188e3",
   "metadata": {},
   "outputs": [
    {
     "ename": "ModuleNotFoundError",
     "evalue": "No module named 'pandas'",
     "output_type": "error",
     "traceback": [
      "\u001b[1;31m---------------------------------------------------------------------------\u001b[0m",
      "\u001b[1;31mModuleNotFoundError\u001b[0m                       Traceback (most recent call last)",
      "\u001b[1;32mc:\\Users\\Sanket Dadhwal\\Downloads\\group_project.ipynb Cell 1\u001b[0m line \u001b[0;36m<cell line: 1>\u001b[1;34m()\u001b[0m\n\u001b[1;32m----> <a href='vscode-notebook-cell:/c%3A/Users/Sanket%20Dadhwal/Downloads/group_project.ipynb#W0sZmlsZQ%3D%3D?line=0'>1</a>\u001b[0m \u001b[39mimport\u001b[39;00m \u001b[39mpandas\u001b[39;00m \u001b[39mas\u001b[39;00m \u001b[39mpd\u001b[39;00m\n\u001b[0;32m      <a href='vscode-notebook-cell:/c%3A/Users/Sanket%20Dadhwal/Downloads/group_project.ipynb#W0sZmlsZQ%3D%3D?line=1'>2</a>\u001b[0m \u001b[39mimport\u001b[39;00m \u001b[39mnumpy\u001b[39;00m \u001b[39mas\u001b[39;00m \u001b[39mnp\u001b[39;00m\n",
      "\u001b[1;31mModuleNotFoundError\u001b[0m: No module named 'pandas'"
     ]
    }
   ],
   "source": [
    "import pandas as pd\n",
    "import numpy as np\n"
   ]
  },
  {
   "cell_type": "code",
   "execution_count": null,
   "id": "dbcc1ba2-a3f7-4291-a3b9-f5b86ee28d99",
   "metadata": {},
   "outputs": [
    {
     "ename": "FileNotFoundError",
     "evalue": "[Errno 2] No such file or directory: '/content/ASTR19_S22_group_project_data.txt'",
     "output_type": "error",
     "traceback": [
      "\u001b[0;31m---------------------------------------------------------------------------\u001b[0m",
      "\u001b[0;31mFileNotFoundError\u001b[0m                         Traceback (most recent call last)",
      "\u001b[1;32m/Users/funny/Desktop/GroupProject/group_project.ipynb Cell 2\u001b[0m line \u001b[0;36m2\n\u001b[1;32m     <a href='vscode-notebook-cell:/Users/funny/Desktop/GroupProject/group_project.ipynb#W1sZmlsZQ%3D%3D?line=21'>22</a>\u001b[0m     \u001b[39mreturn\u001b[39;00m pd\u001b[39m.\u001b[39mDataFrame(data, columns\u001b[39m=\u001b[39m[\u001b[39m'\u001b[39m\u001b[39mDay\u001b[39m\u001b[39m'\u001b[39m, \u001b[39m'\u001b[39m\u001b[39mTide_Height\u001b[39m\u001b[39m'\u001b[39m])\n\u001b[1;32m     <a href='vscode-notebook-cell:/Users/funny/Desktop/GroupProject/group_project.ipynb#W1sZmlsZQ%3D%3D?line=23'>24</a>\u001b[0m \u001b[39m# parse the data\u001b[39;00m\n\u001b[0;32m---> <a href='vscode-notebook-cell:/Users/funny/Desktop/GroupProject/group_project.ipynb#W1sZmlsZQ%3D%3D?line=24'>25</a>\u001b[0m df \u001b[39m=\u001b[39m parse_tidal_data(file_path)\n\u001b[1;32m     <a href='vscode-notebook-cell:/Users/funny/Desktop/GroupProject/group_project.ipynb#W1sZmlsZQ%3D%3D?line=26'>27</a>\u001b[0m \u001b[39m# display\u001b[39;00m\n\u001b[1;32m     <a href='vscode-notebook-cell:/Users/funny/Desktop/GroupProject/group_project.ipynb#W1sZmlsZQ%3D%3D?line=27'>28</a>\u001b[0m df\u001b[39m.\u001b[39mhead()\n",
      "\u001b[1;32m/Users/funny/Desktop/GroupProject/group_project.ipynb Cell 2\u001b[0m line \u001b[0;36m7\n\u001b[1;32m      <a href='vscode-notebook-cell:/Users/funny/Desktop/GroupProject/group_project.ipynb#W1sZmlsZQ%3D%3D?line=3'>4</a>\u001b[0m \u001b[39mdef\u001b[39;00m \u001b[39mparse_tidal_data\u001b[39m(file_path):\n\u001b[1;32m      <a href='vscode-notebook-cell:/Users/funny/Desktop/GroupProject/group_project.ipynb#W1sZmlsZQ%3D%3D?line=4'>5</a>\u001b[0m     data \u001b[39m=\u001b[39m []\n\u001b[0;32m----> <a href='vscode-notebook-cell:/Users/funny/Desktop/GroupProject/group_project.ipynb#W1sZmlsZQ%3D%3D?line=6'>7</a>\u001b[0m     \u001b[39mwith\u001b[39;00m \u001b[39mopen\u001b[39;49m(file_path, \u001b[39m'\u001b[39;49m\u001b[39mr\u001b[39;49m\u001b[39m'\u001b[39;49m) \u001b[39mas\u001b[39;00m file:\n\u001b[1;32m      <a href='vscode-notebook-cell:/Users/funny/Desktop/GroupProject/group_project.ipynb#W1sZmlsZQ%3D%3D?line=7'>8</a>\u001b[0m         \u001b[39mfor\u001b[39;00m line \u001b[39min\u001b[39;00m file:\n\u001b[1;32m      <a href='vscode-notebook-cell:/Users/funny/Desktop/GroupProject/group_project.ipynb#W1sZmlsZQ%3D%3D?line=8'>9</a>\u001b[0m             \u001b[39m# the ones we don't want to read start with a '#'\u001b[39;00m\n\u001b[1;32m     <a href='vscode-notebook-cell:/Users/funny/Desktop/GroupProject/group_project.ipynb#W1sZmlsZQ%3D%3D?line=9'>10</a>\u001b[0m             \u001b[39mif\u001b[39;00m \u001b[39mnot\u001b[39;00m line\u001b[39m.\u001b[39mstartswith(\u001b[39m'\u001b[39m\u001b[39m#\u001b[39m\u001b[39m'\u001b[39m):  \n",
      "File \u001b[0;32m~/Library/Python/3.9/lib/python/site-packages/IPython/core/interactiveshell.py:282\u001b[0m, in \u001b[0;36m_modified_open\u001b[0;34m(file, *args, **kwargs)\u001b[0m\n\u001b[1;32m    275\u001b[0m \u001b[39mif\u001b[39;00m file \u001b[39min\u001b[39;00m {\u001b[39m0\u001b[39m, \u001b[39m1\u001b[39m, \u001b[39m2\u001b[39m}:\n\u001b[1;32m    276\u001b[0m     \u001b[39mraise\u001b[39;00m \u001b[39mValueError\u001b[39;00m(\n\u001b[1;32m    277\u001b[0m         \u001b[39mf\u001b[39m\u001b[39m\"\u001b[39m\u001b[39mIPython won\u001b[39m\u001b[39m'\u001b[39m\u001b[39mt let you open fd=\u001b[39m\u001b[39m{\u001b[39;00mfile\u001b[39m}\u001b[39;00m\u001b[39m by default \u001b[39m\u001b[39m\"\u001b[39m\n\u001b[1;32m    278\u001b[0m         \u001b[39m\"\u001b[39m\u001b[39mas it is likely to crash IPython. If you know what you are doing, \u001b[39m\u001b[39m\"\u001b[39m\n\u001b[1;32m    279\u001b[0m         \u001b[39m\"\u001b[39m\u001b[39myou can use builtins\u001b[39m\u001b[39m'\u001b[39m\u001b[39m open.\u001b[39m\u001b[39m\"\u001b[39m\n\u001b[1;32m    280\u001b[0m     )\n\u001b[0;32m--> 282\u001b[0m \u001b[39mreturn\u001b[39;00m io_open(file, \u001b[39m*\u001b[39;49margs, \u001b[39m*\u001b[39;49m\u001b[39m*\u001b[39;49mkwargs)\n",
      "\u001b[0;31mFileNotFoundError\u001b[0m: [Errno 2] No such file or directory: '/content/ASTR19_S22_group_project_data.txt'"
     ]
    }
   ],
   "source": [
    "\n",
    "\n",
    "\n",
    "file_path = '/content/ASTR19_S22_group_project_data.txt'\n",
    "# parsing the data from the file\n",
    "\n",
    "def parse_tidal_data(file_path):\n",
    "    data = []\n",
    "    \n",
    "    with open(file_path, 'r') as file:\n",
    "        for line in file:\n",
    "            # the ones we don't want to read start with a '#'\n",
    "            if not line.startswith('#'):  \n",
    "                \n",
    "                day, time, height = line.split()\n",
    "                \n",
    "                day = int(day)\n",
    "                \n",
    "                hour, minute = map(int, time.split(':'))\n",
    "                \n",
    "                total_minutes = day + (hour * 60 + minute) /(24 * 60)  \n",
    "                \n",
    "                height = float(height)\n",
    "                data.append([total_minutes, height])\n",
    "    return pd.DataFrame(data, columns=['Day', 'Tide_Height'])\n",
    "\n",
    "# parse the data\n",
    "df = parse_tidal_data(file_path)\n",
    "\n",
    "# display\n",
    "df.head()\n",
    "\n",
    "# Calculate residuals\n",
    "residuals = tide_height - model_predictions\n",
    "\n",
    "# Plot residuals\n",
    "plt.figure(figsize=(10, 6))\n",
    "plt.scatter(time, residuals, label='Residuals', color='green', s=10)\n",
    "plt.axhline(0, color='red', linestyle='--', linewidth=2)\n",
    "plt.xlabel('Time')\n",
    "plt.ylabel('Residuals (ft)')\n",
    "plt.title('Residuals of Tidal Measurements in Santa Cruz')\n",
    "plt.legend()\n",
    "plt.show()\n",
    "\n",
    "# Plot histogram of residuals\n",
    "plt.figure(figsize=(10, 6))\n",
    "plt.hist(residuals, bins='auto', edgecolor='black')\n",
    "plt.xlabel('Residuals (ft)')\n",
    "plt.ylabel('Frequency')\n",
    "plt.title('Histogram of Residuals')\n",
    "plt.savefig('residuals_histogram.pdf')\n",
    "plt.show()\n",
    "\n",
    "# Calculate standard deviation of residuals\n",
    "std_dev_residuals = np.std(residuals)\n",
    "print(f'Standard Deviation of Residuals: {std_dev_residuals}')"
   ]
  }
 ],
 "metadata": {
  "kernelspec": {
   "display_name": "Python 3 (ipykernel)",
   "language": "python",
   "name": "python3"
  },
  "language_info": {
   "codemirror_mode": {
    "name": "ipython",
    "version": 3
   },
   "file_extension": ".py",
   "mimetype": "text/x-python",
   "name": "python",
   "nbconvert_exporter": "python",
   "pygments_lexer": "ipython3",
   "version": "3.9.12"
  }
 },
 "nbformat": 4,
 "nbformat_minor": 5
}
