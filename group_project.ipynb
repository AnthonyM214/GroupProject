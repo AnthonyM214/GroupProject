{
 "cells": [
  {
   "cell_type": "code",
   "execution_count": 1,
   "id": "e5a156c0-691b-4877-b8e9-5daac24188e3",
   "metadata": {},
   "outputs": [],
   "source": [
    "import pandas as pd\n",
    "import numpy as np\n",
    "import matplotlib.pyplot as plt"
   ]
  },
  {
   "cell_type": "code",
   "execution_count": null,
   "id": "dbcc1ba2-a3f7-4291-a3b9-f5b86ee28d99",
   "metadata": {},
   "outputs": [],
   "source": [
    "\n",
    "\n",
    "\n",
    "file_path = 'ASTR19_S22_group_project_data.txt'\n",
    "# parsing the data from the file\n",
    "\n",
    "def parse_tidal_data(file_path):\n",
    "    data = []\n",
    "    \n",
    "    with open(file_path, 'r') as file:\n",
    "        for line in file:\n",
    "            if not line.startswith('#'):  \n",
    "                \n",
    "                day, time, height = line.split()\n",
    "                \n",
    "                day = int(day)\n",
    "                \n",
    "                hour, minute = map(int, time.split(':'))\n",
    "                \n",
    "                total_minutes = day + (hour * 60 + minute) /(24 * 60)  \n",
    "                \n",
    "                height = float(height)\n",
    "                data.append([total_minutes, height])\n",
    "    return pd.DataFrame(data, columns=['Day', 'Tide_Height'])\n",
    "\n",
    "# parse the data\n",
    "df = parse_tidal_data(file_path)\n",
    "\n",
    "# display\n",
    "df.head()"
   ]
  }
 ],
 "metadata": {
  "kernelspec": {
   "display_name": "Python 3 (ipykernel)",
   "language": "python",
   "name": "python3"
  },
  "language_info": {
   "codemirror_mode": {
    "name": "ipython",
    "version": 3
   },
   "file_extension": ".py",
   "mimetype": "text/x-python",
   "name": "python",
   "nbconvert_exporter": "python",
   "pygments_lexer": "ipython3",
   "version": "3.10.11"
  }
 },
 "nbformat": 4,
 "nbformat_minor": 5
}
